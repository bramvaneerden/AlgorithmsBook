{
 "cells": [
  {
   "cell_type": "markdown",
   "metadata": {},
   "source": [
    "[5] Implement the two TSP heuristics of Section 1.1 (page 5). Which of them\n",
    "gives better solutions in practice? Can you devise a heuristic that works better\n",
    "than both of them?"
   ]
  },
  {
   "cell_type": "code",
   "execution_count": 3,
   "metadata": {},
   "outputs": [],
   "source": [
    "import numpy as np"
   ]
  },
  {
   "cell_type": "code",
   "execution_count": 4,
   "metadata": {},
   "outputs": [],
   "source": [
    "np.random.seed(42)\n",
    "points = [(0, 0), (2, 3), (5, 4), (1, 1), (7, 8), (3, 3), (8, 8), (6, 5), (2, 1), (7, 6)]\n"
   ]
  },
  {
   "cell_type": "code",
   "execution_count": 5,
   "metadata": {},
   "outputs": [
    {
     "data": {
      "text/plain": [
       "(7, 6)"
      ]
     },
     "execution_count": 5,
     "metadata": {},
     "output_type": "execute_result"
    }
   ],
   "source": [
    "points[-1]"
   ]
  },
  {
   "cell_type": "code",
   "execution_count": 6,
   "metadata": {},
   "outputs": [
    {
     "name": "stdout",
     "output_type": "stream",
     "text": [
      "[(0, 0), (1, 1), (2, 1), (2, 3), (3, 3), (5, 4), (6, 5), (7, 6), (7, 8), (8, 8)]\n"
     ]
    }
   ],
   "source": [
    "points = [(0, 0), (2, 3), (5, 4), (1, 1), (7, 8), (3, 3), (8, 8), (6, 5), (2, 1), (7, 6)]\n",
    "\n",
    "def NearestBeighbor(P):\n",
    "    # pick and visit initial point p0\n",
    "    # p = P[0]\n",
    "    queue = P.copy()\n",
    "    visited = []\n",
    "    \n",
    "    current_point = queue.pop(0)\n",
    "    \n",
    "    while len(queue) != 0:\n",
    "        visited.append(current_point)\n",
    "        dist = np.inf\n",
    "        neigbour_index = 0\n",
    "        for j in range(len(queue)):\n",
    "            temp_dist = np.sqrt((queue[j][0]- visited[-1][0]) ** 2 + (queue[j][1] - visited[-1][1]) ** 2)\n",
    "            if temp_dist < dist:\n",
    "                dist = temp_dist\n",
    "                neigbour_index = j\n",
    "        current_point = queue.pop(neigbour_index)\n",
    "        # visited.append(current_point)\n",
    "        \n",
    "    visited.append(current_point)    \n",
    "    return visited            \n",
    "        \n",
    "        \n",
    "        \n",
    "\n",
    "\n",
    "a = NearestBeighbor(points)\n",
    "print(a)"
   ]
  },
  {
   "cell_type": "code",
   "execution_count": 22,
   "metadata": {},
   "outputs": [
    {
     "name": "stdout",
     "output_type": "stream",
     "text": [
      "[(0, 0), (1, 1), (2, 1), (2, 3), (3, 3), (5, 4), (6, 5), (7, 6), (7, 8), (8, 8)]\n"
     ]
    },
    {
     "ename": "",
     "evalue": "",
     "output_type": "error",
     "traceback": [
      "\u001b[1;31mThe Kernel crashed while executing code in the current cell or a previous cell. \n",
      "\u001b[1;31mPlease review the code in the cell(s) to identify a possible cause of the failure. \n",
      "\u001b[1;31mClick <a href='https://aka.ms/vscodeJupyterKernelCrash'>here</a> for more info. \n",
      "\u001b[1;31mView Jupyter <a href='command:jupyter.viewOutput'>log</a> for further details."
     ]
    }
   ],
   "source": [
    "points = [(0, 0), (2, 3), (5, 4), (1, 1), (7, 8), (3, 3), (8, 8), (6, 5), (2, 1), (7, 6)]\n",
    "\n",
    "def distance(i,j):\n",
    "    # print(i,j)\n",
    "    dist = np.sqrt((j[0]- i[0]) ** 2 + (j[1] - i[1]) ** 2)\n",
    "    return dist\n",
    "\n",
    "\n",
    "# def closestPair(P):\n",
    "#     cycle = []\n",
    "#     cycle.append(P[0])\n",
    "#     for i in range(len(P)):\n",
    "#         dist = np.inf\n",
    "#         shortest_index = 0\n",
    "#         for j in range(1, len(P)):\n",
    "#             if i == j:\n",
    "#                 continue\n",
    "#             temp_dist = distance(P[i],P[j])\n",
    "#             if temp_dist < dist:\n",
    "#                 dist = temp_dist\n",
    "#                 shortest_index = j\n",
    "#         cycle.append(P[j])\n",
    "#     return cycle\n",
    "def closestPair(P):\n",
    "    if len(P) < 2:\n",
    "        return P\n",
    "\n",
    "    cycle = [P[0]]\n",
    "    used = [False] * len(P)\n",
    "    used[0] = True\n",
    "\n",
    "    for i in range(len(P) - 1):\n",
    "        dist = np.inf\n",
    "        shortest_index = -1\n",
    "        for j in range(len(P)):\n",
    "            if not used[j]:\n",
    "                temp_dist = distance(cycle[-1], P[j])\n",
    "                if temp_dist < dist:\n",
    "                    dist = temp_dist\n",
    "                    shortest_index = j\n",
    "        if shortest_index != -1:\n",
    "            cycle.append(P[shortest_index])\n",
    "            used[shortest_index] = True\n",
    "    \n",
    "    return cycle\n",
    "print(closestPair(points))"
   ]
  },
  {
   "cell_type": "code",
   "execution_count": 10,
   "metadata": {},
   "outputs": [
    {
     "data": {
      "text/plain": [
       "0"
      ]
     },
     "execution_count": 10,
     "metadata": {},
     "output_type": "execute_result"
    }
   ],
   "source": [
    "points[0][0]"
   ]
  },
  {
   "cell_type": "code",
   "execution_count": 7,
   "metadata": {},
   "outputs": [
    {
     "name": "stdout",
     "output_type": "stream",
     "text": [
      "[1, 1, 2, 2, 3, 3]\n"
     ]
    }
   ],
   "source": [
    "def wiggleSort(nums):\n",
    "    \"\"\"\n",
    "    :type nums: List[int]\n",
    "    :rtype: None Do not return anything, modify nums in-place instead.\n",
    "    \"\"\"\n",
    "\n",
    "    n = len(nums)\n",
    "    stack = []\n",
    "    answer = [0] * n\n",
    "    switch = n % 2\n",
    "    \n",
    "    nums.sort()\n",
    "    answer[0] = nums[0]\n",
    "    del nums[0]\n",
    "    \n",
    "\n",
    "    for i , t in enumerate(n):\n",
    "        if len(nums) % 2 == 0:\n",
    "            while stack and stack[-1][1] < t:\n",
    "                stack_i, stack_t = stack.pop()\n",
    "            \n",
    "\n",
    "        stack.append((i, nums[i]))  \n",
    "        switch = len(nums) % 2\n",
    "        \n",
    "        \n",
    "nums = [1,3,2,2,3,1]\n",
    "\n",
    "wiggleSort(nums)"
   ]
  },
  {
   "cell_type": "code",
   "execution_count": null,
   "metadata": {},
   "outputs": [],
   "source": []
  }
 ],
 "metadata": {
  "kernelspec": {
   "display_name": "tf",
   "language": "python",
   "name": "python3"
  },
  "language_info": {
   "codemirror_mode": {
    "name": "ipython",
    "version": 3
   },
   "file_extension": ".py",
   "mimetype": "text/x-python",
   "name": "python",
   "nbconvert_exporter": "python",
   "pygments_lexer": "ipython3",
   "version": "3.9.19"
  }
 },
 "nbformat": 4,
 "nbformat_minor": 2
}
